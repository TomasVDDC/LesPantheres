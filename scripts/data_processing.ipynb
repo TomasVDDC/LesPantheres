{
 "cells": [
  {
   "cell_type": "code",
   "execution_count": 4,
   "metadata": {},
   "outputs": [],
   "source": [
    "biggest_airport_ids = [\n",
    "    10011, 10014, 10040, 10135, 10136, 10139, 10140, 10141, 10146, 10150, \n",
    "    10154, 10155, 10157, 10158, 10165, 10170, 10171, 10184, 10185, 10194, \n",
    "    10198, 10204, 10208, 10210, 10216, 10225, 10237, 10241, 10244, 10245, \n",
    "    10247, 10257, 10268, 10275, 10279, 10287, 10292, 10298, 10299, 10304, \n",
    "    10312, 10313, 10322, 10325, 10327, 10329, 10333, 10349, 10361, 10371, \n",
    "    10372, 10394, 10396, 10397, 10405, 10408, 10411, 10414, 10416, 10423, \n",
    "    10431, 10434, 10444, 10448, 10466, 10469, 10478, 10480, 10486, 10517, \n",
    "    10519, 10521, 10529, 10540, 10549, 10551, 10557, 10558, 10559, 10561, \n",
    "    10562, 10569, 10570, 10575, 10577, 10581, 10583, 10589, 10590, 10599, \n",
    "    10613, 10615, 10617, 10620, 10621, 10627, 10630, 10631, 10638, 10640, \n",
    "    10654, 10661, 10666, 10676, 10683, 10685, 10693, 10696, 10711, 10713, \n",
    "    10717, 10721, 10722, 10728, 10731, 10732, 10734, 10739, 10744, 10747, \n",
    "    10752, 10754, 10775, 10779, 10781, 10783, 10785, 10792, 10800, 10817, \n",
    "    10819, 10821, 10836, 10846, 10849, 10857, 10868, 10874, 10877, 10878, \n",
    "    10910, 10916, 10917, 10918, 10920, 10925, 10926, 10930, 10938, 10958\n",
    "]"
   ]
  },
  {
   "cell_type": "code",
   "execution_count": 10,
   "metadata": {},
   "outputs": [],
   "source": [
    "import pandas as pd\n",
    "\n",
    "df = pd.read_csv('./data/airports.csv')\n",
    "df = df[df['AIRPORT_ID'].isin(biggest_airport_ids)]\n",
    "df = df.drop_duplicates(subset=['AIRPORT_ID'])\n",
    "df = df[['AIRPORT_ID', 'DISPLAY_AIRPORT_NAME', 'LATITUDE', 'LONGITUDE']]\n",
    "df.head(100)\n",
    "\n",
    "df.to_json('./data/output_biggest_airports.json', orient='records')"
   ]
  }
 ],
 "metadata": {
  "kernelspec": {
   "display_name": "Python 3",
   "language": "python",
   "name": "python3"
  },
  "language_info": {
   "codemirror_mode": {
    "name": "ipython",
    "version": 3
   },
   "file_extension": ".py",
   "mimetype": "text/x-python",
   "name": "python",
   "nbconvert_exporter": "python",
   "pygments_lexer": "ipython3",
   "version": "3.9.13"
  }
 },
 "nbformat": 4,
 "nbformat_minor": 2
}
