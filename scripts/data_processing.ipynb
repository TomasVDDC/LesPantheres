{
 "cells": [
  {
   "cell_type": "code",
   "execution_count": 1,
   "metadata": {},
   "outputs": [],
   "source": [
    "import pandas as pd"
   ]
  },
  {
   "cell_type": "code",
   "execution_count": 15,
   "metadata": {},
   "outputs": [
    {
     "name": "stdout",
     "output_type": "stream",
     "text": [
      "   ORIGIN_AIRPORT_ID                                        Description  \\\n",
      "0              10397  Atlanta, GA: Hartsfield-Jackson Atlanta Intern...   \n",
      "1              11298  Dallas/Fort Worth, TX: Dallas/Fort Worth Inter...   \n",
      "2              11292                   Denver, CO: Denver International   \n",
      "3              13204                 Orlando, FL: Orlando International   \n",
      "4              13930          Chicago, IL: Chicago O'Hare International   \n",
      "\n",
      "   Sum(PASSENGERS)  \n",
      "0          3605342  \n",
      "1          2909149  \n",
      "2          2736283  \n",
      "3          2189359  \n",
      "4          2159546  \n",
      "[10397, 11298, 11292, 13204, 13930, 12892, 11057, 12889, 13303, 14107, 11618, 12266, 12478, 14747, 11697, 14771, 13487, 10721, 12953, 14869, 11433, 15304, 14100, 10821, 11278, 14679, 12173, 10693, 10423, 12264, 11032, 11259, 13232, 14635, 14843, 12191, 14057, 15016, 13495, 14492, 14893, 14908, 14831, 14027, 13198, 13796, 14683, 12339, 11042, 14122, 11193, 11066, 13830, 12451, 10800, 12972, 13342, 10529, 13891, 14293, 14986, 14832, 10994, 13180, 10713, 13871, 10140, 12758, 14570, 14312, 14739, 15376, 14524, 10299, 13244, 13931, 11986, 14730, 14262, 12954, 11884, 13252, 12982, 10792, 13851, 11540, 14838, 16271, 10292, 14307, 14685, 11423, 13605, 10920, 15370, 14761, 15096, 12169, 10599, 10257]\n"
     ]
    }
   ],
   "source": [
    "biggest_airport_ids = pd.read_csv('./data/all_airports_sorted_size.csv', )\n",
    "print(biggest_airport_ids.head())\n",
    "#get the 100 biggest airports\n",
    "biggest_airport_ids = biggest_airport_ids.head(100)\n",
    "biggest_airport_ids = biggest_airport_ids[\"ORIGIN_AIRPORT_ID\"].values.tolist()"
   ]
  },
  {
   "cell_type": "code",
   "execution_count": 16,
   "metadata": {},
   "outputs": [],
   "source": [
    "df = pd.read_csv('./data/airports.csv')\n",
    "df = df[df['AIRPORT_ID'].isin(biggest_airport_ids)]\n",
    "df = df.drop_duplicates(subset=['AIRPORT_ID'])\n",
    "df = df[['AIRPORT_ID', 'DISPLAY_AIRPORT_NAME', 'LATITUDE', 'LONGITUDE']]\n",
    "\n",
    "\n",
    "df.to_json('./data/output_biggest_airports.json', orient='records')"
   ]
  }
 ],
 "metadata": {
  "kernelspec": {
   "display_name": "Python 3",
   "language": "python",
   "name": "python3"
  },
  "language_info": {
   "codemirror_mode": {
    "name": "ipython",
    "version": 3
   },
   "file_extension": ".py",
   "mimetype": "text/x-python",
   "name": "python",
   "nbconvert_exporter": "python",
   "pygments_lexer": "ipython3",
   "version": "3.9.13"
  }
 },
 "nbformat": 4,
 "nbformat_minor": 2
}
